{
 "cells": [
  {
   "cell_type": "code",
   "execution_count": 7,
   "id": "f5afb364",
   "metadata": {},
   "outputs": [],
   "source": [
    "from stockfish import Stockfish"
   ]
  },
  {
   "cell_type": "code",
   "execution_count": 14,
   "id": "c6071c93",
   "metadata": {},
   "outputs": [
    {
     "name": "stderr",
     "output_type": "stream",
     "text": [
      "Exception ignored in: <function Stockfish.__del__ at 0x7fc8a3388f70>\n",
      "Traceback (most recent call last):\n",
      "  File \"/opt/anaconda3/lib/python3.9/site-packages/stockfish/models.py\", line 566, in __del__\n",
      "    if self._stockfish.poll() is None:\n",
      "AttributeError: 'Stockfish' object has no attribute '_stockfish'\n",
      "Exception ignored in: <function Stockfish.__del__ at 0x7fc8a3388f70>\n",
      "Traceback (most recent call last):\n",
      "  File \"/opt/anaconda3/lib/python3.9/site-packages/stockfish/models.py\", line 566, in __del__\n",
      "    if self._stockfish.poll() is None:\n",
      "AttributeError: 'Stockfish' object has no attribute '_stockfish'\n",
      "Exception ignored in: <function Stockfish.__del__ at 0x7fc8a3388f70>\n",
      "Traceback (most recent call last):\n",
      "  File \"/opt/anaconda3/lib/python3.9/site-packages/stockfish/models.py\", line 566, in __del__\n",
      "    if self._stockfish.poll() is None:\n",
      "AttributeError: 'Stockfish' object has no attribute '_stockfish'\n",
      "Exception ignored in: <function Stockfish.__del__ at 0x7fc8a3388f70>\n",
      "Traceback (most recent call last):\n",
      "  File \"/opt/anaconda3/lib/python3.9/site-packages/stockfish/models.py\", line 566, in __del__\n",
      "    if self._stockfish.poll() is None:\n",
      "AttributeError: 'Stockfish' object has no attribute '_stockfish'\n",
      "Exception ignored in: <function Stockfish.__del__ at 0x7fc8a3388f70>\n",
      "Traceback (most recent call last):\n",
      "  File \"/opt/anaconda3/lib/python3.9/site-packages/stockfish/models.py\", line 566, in __del__\n",
      "    if self._stockfish.poll() is None:\n",
      "AttributeError: 'Stockfish' object has no attribute '_stockfish'\n",
      "Exception ignored in: <function Stockfish.__del__ at 0x7fc8a3388f70>\n",
      "Traceback (most recent call last):\n",
      "  File \"/opt/anaconda3/lib/python3.9/site-packages/stockfish/models.py\", line 566, in __del__\n",
      "    if self._stockfish.poll() is None:\n",
      "AttributeError: 'Stockfish' object has no attribute '_stockfish'\n",
      "Exception ignored in: <function Stockfish.__del__ at 0x7fc8a3388f70>\n",
      "Traceback (most recent call last):\n",
      "  File \"/opt/anaconda3/lib/python3.9/site-packages/stockfish/models.py\", line 566, in __del__\n",
      "    if self._stockfish.poll() is None:\n",
      "AttributeError: 'Stockfish' object has no attribute '_stockfish'\n"
     ]
    }
   ],
   "source": [
    "#stockfish = Stockfish('/usr/local/Cellar/stockfish/14.1/bin')\n",
    "stockfish = Stockfish(path=\"/Users/mmusto/Documents/stockfish/14.1/bin/stockfish\")"
   ]
  },
  {
   "cell_type": "code",
   "execution_count": 15,
   "id": "d96daf76",
   "metadata": {},
   "outputs": [],
   "source": [
    "stockfish.set_position(['e2e4', 'e7e6'])"
   ]
  },
  {
   "cell_type": "code",
   "execution_count": 16,
   "id": "9d817616",
   "metadata": {},
   "outputs": [
    {
     "data": {
      "text/plain": [
       "'d2d4'"
      ]
     },
     "execution_count": 16,
     "metadata": {},
     "output_type": "execute_result"
    }
   ],
   "source": [
    "stockfish.get_best_move()"
   ]
  },
  {
   "cell_type": "code",
   "execution_count": 35,
   "id": "79d707d8",
   "metadata": {},
   "outputs": [
    {
     "data": {
      "text/plain": [
       "[{'Move': 'd2d4', 'Centipawn': 52, 'Mate': None},\n",
       " {'Move': 'b1c3', 'Centipawn': 48, 'Mate': None},\n",
       " {'Move': 'g1f3', 'Centipawn': 24, 'Mate': None}]"
      ]
     },
     "execution_count": 35,
     "metadata": {},
     "output_type": "execute_result"
    }
   ],
   "source": [
    "stockfish.get_top_moves(3)"
   ]
  },
  {
   "cell_type": "code",
   "execution_count": 19,
   "id": "8727314b",
   "metadata": {},
   "outputs": [
    {
     "data": {
      "text/plain": [
       "str"
      ]
     },
     "execution_count": 19,
     "metadata": {},
     "output_type": "execute_result"
    }
   ],
   "source": [
    "type(stockfish.get_best_move())"
   ]
  },
  {
   "cell_type": "code",
   "execution_count": 20,
   "id": "e36307df",
   "metadata": {},
   "outputs": [
    {
     "data": {
      "text/plain": [
       "list"
      ]
     },
     "execution_count": 20,
     "metadata": {},
     "output_type": "execute_result"
    }
   ],
   "source": [
    "type(stockfish.get_top_moves(3))"
   ]
  },
  {
   "cell_type": "code",
   "execution_count": 36,
   "id": "aad20b0d",
   "metadata": {},
   "outputs": [
    {
     "data": {
      "text/plain": [
       "dict"
      ]
     },
     "execution_count": 36,
     "metadata": {},
     "output_type": "execute_result"
    }
   ],
   "source": [
    "type(stockfish.get_top_moves(3)[1])"
   ]
  },
  {
   "cell_type": "code",
   "execution_count": 37,
   "id": "7ee57545",
   "metadata": {},
   "outputs": [
    {
     "data": {
      "text/plain": [
       "50"
      ]
     },
     "execution_count": 37,
     "metadata": {},
     "output_type": "execute_result"
    }
   ],
   "source": [
    " stockfish.get_top_moves(3)[0].get(\"Centipawn\")"
   ]
  },
  {
   "cell_type": "code",
   "execution_count": 32,
   "id": "22a6de76",
   "metadata": {},
   "outputs": [
    {
     "data": {
      "text/plain": [
       "{'Move': 'b1c3', 'Centipawn': 56, 'Mate': None}"
      ]
     },
     "execution_count": 32,
     "metadata": {},
     "output_type": "execute_result"
    }
   ],
   "source": [
    " stockfish.get_top_moves(3)[0]"
   ]
  },
  {
   "cell_type": "code",
   "execution_count": null,
   "id": "a0acb693",
   "metadata": {},
   "outputs": [],
   "source": []
  }
 ],
 "metadata": {
  "kernelspec": {
   "display_name": "Python 3 (ipykernel)",
   "language": "python",
   "name": "python3"
  },
  "language_info": {
   "codemirror_mode": {
    "name": "ipython",
    "version": 3
   },
   "file_extension": ".py",
   "mimetype": "text/x-python",
   "name": "python",
   "nbconvert_exporter": "python",
   "pygments_lexer": "ipython3",
   "version": "3.9.7"
  }
 },
 "nbformat": 4,
 "nbformat_minor": 5
}
